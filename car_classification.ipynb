{
 "cells": [
  {
   "cell_type": "code",
   "execution_count": 5,
   "id": "73cbf3fb",
   "metadata": {},
   "outputs": [],
   "source": [
    "# !nvidia-smi"
   ]
  },
  {
   "cell_type": "markdown",
   "id": "5fced0f7",
   "metadata": {},
   "source": [
    "## 1. Import Libraries"
   ]
  },
  {
   "cell_type": "code",
   "execution_count": 6,
   "id": "8ba4030b",
   "metadata": {},
   "outputs": [],
   "source": [
    "import torch\n",
    "import torch.nn as nn\n",
    "import torch.optim as optim\n",
    "from torchvision import models, transforms, datasets\n",
    "from torch.utils.data import DataLoader, Dataset\n",
    "import torch.nn.functional as F\n",
    "\n",
    "import matplotlib.pyplot as plt\n",
    "from tqdm.auto import tqdm\n",
    "import os\n",
    "\n",
    "from PIL import Image\n",
    "from typing import List, Tuple\n",
    "import random\n",
    "from pathlib import Path\n",
    "import numpy as np"
   ]
  },
  {
   "cell_type": "markdown",
   "id": "e5c126eb",
   "metadata": {},
   "source": [
    "### Check GPU Availability"
   ]
  },
  {
   "cell_type": "code",
   "execution_count": 7,
   "id": "61f6c074",
   "metadata": {},
   "outputs": [
    {
     "name": "stdout",
     "output_type": "stream",
     "text": [
      "Using Device: cuda\n",
      "PyTorch version: 2.8.0+cu126\n",
      "GPU: NVIDIA GeForce GTX 1650\n",
      "GPU Memory: 4.3 GB\n",
      "GPU: NVIDIA GeForce GTX 1650 is Available.\n",
      "Number of GPUs: 1\n"
     ]
    }
   ],
   "source": [
    "# Set random seeds for reproducibility\n",
    "torch.manual_seed(42)\n",
    "torch.cuda.manual_seed(42)\n",
    "\n",
    "if torch.cuda.is_available():\n",
    "    torch.cuda.manual_seed(42)\n",
    "\n",
    "# Device Configuration\n",
    "device = torch.device(\"cuda\" if torch.cuda.is_available() else \"cpu\")\n",
    "print(f\"Using Device: {device}\")\n",
    "print(f\"PyTorch version: {torch.__version__}\")\n",
    "\n",
    "# Display GPU-info if available\n",
    "if torch.cuda.is_available():\n",
    "    print(f\"GPU: {torch.cuda.get_device_name(0)}\")\n",
    "    print(f\"GPU Memory: {torch.cuda.get_device_properties(0).total_memory / 1e9:.1f} GB\")\n",
    "    print(f\"GPU: {torch.cuda.get_device_name(0)} is Available.\")\n",
    "    print(f\"Number of GPUs: {torch.cuda.device_count()}\")"
   ]
  },
  {
   "cell_type": "markdown",
   "id": "43cf7f06",
   "metadata": {},
   "source": [
    "### 1. Custom Dataset Class for OOD Detection\n"
   ]
  },
  {
   "cell_type": "code",
   "execution_count": 8,
   "id": "737c49d3",
   "metadata": {},
   "outputs": [],
   "source": [
    "class CarDataset(Dataset):\n",
    "    \"\"\"Dataset for loading car images and OOD samples\"\"\"\n",
    "    def __init__(self, root_dir, transform=None):\n",
    "        self.transform = transform\n",
    "        self.samples = []\n",
    "\n",
    "        # car classes\n",
    "        car_classes = [\n",
    "            'Maruti_Suzuki_Baleno',\n",
    "            'Maruti_Suzuki_Brezza',\n",
    "            'Maruti_Suzuki_Swift',\n",
    "            'Maruti_Suzuki_WagonR'\n",
    "        ]\n",
    "\n",
    "        # Add car sample\n",
    "        for idx, class_name in enumerate(car_classes):\n",
    "            class_path = os.path.join(root_dir, class_name)\n",
    "\n",
    "            if os.path.exists(class_path):\n",
    "                for img_name in os.listdir(class_path):\n",
    "                    if img_name.lower().endswith(('.png', '.jpg', '.jpeg')):\n",
    "                        self.samples.append({\n",
    "                            'path': os.path.join(class_path, img_name),\n",
    "                            'car_class': idx,  # 0,1,2,3\n",
    "                            'is_car': 1        # Binary: this is a car\n",
    "                        })\n",
    "                        \n",
    "        # Add OOD samples (Not_Car folder)\n",
    "        ood_path = os.path.join(root_dir, \"Not_car\")\n",
    "        if os.path.exists(ood_path):\n",
    "            for img_name in os.listdir(ood_path):\n",
    "                if img_name.lower().endswith(('.png', '.jpg', '.jpeg')):\n",
    "                    self.samples.append({\n",
    "                        'path': os.path.join(ood_path, img_name),\n",
    "                        'car_class': -1,  # No car class\n",
    "                        'is_car': 0       # Binary: This is Not car\n",
    "                    })\n",
    "\n",
    "        print(f\"Load {len(self.samples)} samples from {root_dir}\")\n",
    "\n",
    "        # count_distribution \n",
    "        car_count = 0\n",
    "        ood_count = 0\n",
    "\n",
    "        for sample in self.samples:\n",
    "            if sample[\"is_car\"] == 1:\n",
    "                car_count += 1\n",
    "            else:\n",
    "                ood_count += 1\n",
    "\n",
    "        print(f\"Samples in our self.samples {self.samples[:5]}\")\n",
    "\n",
    "        print(f\"Car Images: {car_count}, OOD Images: {ood_count}\")\n",
    "\n",
    "    def __len__(self):\n",
    "        return len(self.samples)\n",
    "    \n",
    "    def __getitem__(self,idx):\n",
    "        sample = self.samples[idx]\n",
    "        image = Image.open(sample['path']).convert('RGB')\n",
    "\n",
    "        if self.transform:\n",
    "            image = self.transform(image)\n",
    "        \n",
    "        return image, sample['car_class'], sample['is_car']"
   ]
  },
  {
   "cell_type": "markdown",
   "id": "671d3097",
   "metadata": {},
   "source": [
    "## 2. Multi-Head Model Architecture"
   ]
  },
  {
   "cell_type": "markdown",
   "id": "d03c9bf8",
   "metadata": {},
   "source": [
    "### Inspect Original EfficientNet-B0 Structure\n"
   ]
  },
  {
   "cell_type": "code",
   "execution_count": 15,
   "id": "79d75067",
   "metadata": {},
   "outputs": [],
   "source": [
    "from torchinfo import summary"
   ]
  },
  {
   "cell_type": "code",
   "execution_count": 18,
   "id": "3b38a7c4",
   "metadata": {},
   "outputs": [
    {
     "name": "stdout",
     "output_type": "stream",
     "text": [
      "--------------------------------------------------\n",
      "ORIGINAL EFFICIENTNET-B0 STRUCTURE\n",
      "--------------------------------------------------\n"
     ]
    },
    {
     "data": {
      "text/plain": [
       "========================================================================================================================================================================================================================================================\n",
       "Layer (type (var_name))                                      Input Shape                                     Output Shape                                    Param #                                         Trainable\n",
       "========================================================================================================================================================================================================================================================\n",
       "EfficientNet (EfficientNet)                                  [32, 3, 224, 224]                               [32, 1000]                                      --                                              True\n",
       "├─Sequential (features)                                      [32, 3, 224, 224]                               [32, 1280, 7, 7]                                --                                              True\n",
       "│    └─Conv2dNormActivation (0)                              [32, 3, 224, 224]                               [32, 32, 112, 112]                              --                                              True\n",
       "│    │    └─Conv2d (0)                                       [32, 3, 224, 224]                               [32, 32, 112, 112]                              864                                             True\n",
       "│    │    └─BatchNorm2d (1)                                  [32, 32, 112, 112]                              [32, 32, 112, 112]                              64                                              True\n",
       "│    │    └─SiLU (2)                                         [32, 32, 112, 112]                              [32, 32, 112, 112]                              --                                              --\n",
       "│    └─Sequential (1)                                        [32, 32, 112, 112]                              [32, 16, 112, 112]                              --                                              True\n",
       "│    │    └─MBConv (0)                                       [32, 32, 112, 112]                              [32, 16, 112, 112]                              1,448                                           True\n",
       "│    └─Sequential (2)                                        [32, 16, 112, 112]                              [32, 24, 56, 56]                                --                                              True\n",
       "│    │    └─MBConv (0)                                       [32, 16, 112, 112]                              [32, 24, 56, 56]                                6,004                                           True\n",
       "│    │    └─MBConv (1)                                       [32, 24, 56, 56]                                [32, 24, 56, 56]                                10,710                                          True\n",
       "│    └─Sequential (3)                                        [32, 24, 56, 56]                                [32, 40, 28, 28]                                --                                              True\n",
       "│    │    └─MBConv (0)                                       [32, 24, 56, 56]                                [32, 40, 28, 28]                                15,350                                          True\n",
       "│    │    └─MBConv (1)                                       [32, 40, 28, 28]                                [32, 40, 28, 28]                                31,290                                          True\n",
       "│    └─Sequential (4)                                        [32, 40, 28, 28]                                [32, 80, 14, 14]                                --                                              True\n",
       "│    │    └─MBConv (0)                                       [32, 40, 28, 28]                                [32, 80, 14, 14]                                37,130                                          True\n",
       "│    │    └─MBConv (1)                                       [32, 80, 14, 14]                                [32, 80, 14, 14]                                102,900                                         True\n",
       "│    │    └─MBConv (2)                                       [32, 80, 14, 14]                                [32, 80, 14, 14]                                102,900                                         True\n",
       "│    └─Sequential (5)                                        [32, 80, 14, 14]                                [32, 112, 14, 14]                               --                                              True\n",
       "│    │    └─MBConv (0)                                       [32, 80, 14, 14]                                [32, 112, 14, 14]                               126,004                                         True\n",
       "│    │    └─MBConv (1)                                       [32, 112, 14, 14]                               [32, 112, 14, 14]                               208,572                                         True\n",
       "│    │    └─MBConv (2)                                       [32, 112, 14, 14]                               [32, 112, 14, 14]                               208,572                                         True\n",
       "│    └─Sequential (6)                                        [32, 112, 14, 14]                               [32, 192, 7, 7]                                 --                                              True\n",
       "│    │    └─MBConv (0)                                       [32, 112, 14, 14]                               [32, 192, 7, 7]                                 262,492                                         True\n",
       "│    │    └─MBConv (1)                                       [32, 192, 7, 7]                                 [32, 192, 7, 7]                                 587,952                                         True\n",
       "│    │    └─MBConv (2)                                       [32, 192, 7, 7]                                 [32, 192, 7, 7]                                 587,952                                         True\n",
       "│    │    └─MBConv (3)                                       [32, 192, 7, 7]                                 [32, 192, 7, 7]                                 587,952                                         True\n",
       "│    └─Sequential (7)                                        [32, 192, 7, 7]                                 [32, 320, 7, 7]                                 --                                              True\n",
       "│    │    └─MBConv (0)                                       [32, 192, 7, 7]                                 [32, 320, 7, 7]                                 717,232                                         True\n",
       "│    └─Conv2dNormActivation (8)                              [32, 320, 7, 7]                                 [32, 1280, 7, 7]                                --                                              True\n",
       "│    │    └─Conv2d (0)                                       [32, 320, 7, 7]                                 [32, 1280, 7, 7]                                409,600                                         True\n",
       "│    │    └─BatchNorm2d (1)                                  [32, 1280, 7, 7]                                [32, 1280, 7, 7]                                2,560                                           True\n",
       "│    │    └─SiLU (2)                                         [32, 1280, 7, 7]                                [32, 1280, 7, 7]                                --                                              --\n",
       "├─AdaptiveAvgPool2d (avgpool)                                [32, 1280, 7, 7]                                [32, 1280, 1, 1]                                --                                              --\n",
       "├─Sequential (classifier)                                    [32, 1280]                                      [32, 1000]                                      --                                              True\n",
       "│    └─Dropout (0)                                           [32, 1280]                                      [32, 1280]                                      --                                              --\n",
       "│    └─Linear (1)                                            [32, 1280]                                      [32, 1000]                                      1,281,000                                       True\n",
       "========================================================================================================================================================================================================================================================\n",
       "Total params: 5,288,548\n",
       "Trainable params: 5,288,548\n",
       "Non-trainable params: 0\n",
       "Total mult-adds (G): 12.35\n",
       "========================================================================================================================================================================================================================================================\n",
       "Input size (MB): 19.27\n",
       "Forward/backward pass size (MB): 3452.35\n",
       "Params size (MB): 21.15\n",
       "Estimated Total Size (MB): 3492.77\n",
       "========================================================================================================================================================================================================================================================"
      ]
     },
     "execution_count": 18,
     "metadata": {},
     "output_type": "execute_result"
    }
   ],
   "source": [
    "# Create original EfficientNet-B0 for inspection\n",
    "original_efficientnet = models.efficientnet_b0(weights=models.EfficientNet_B0_Weights.DEFAULT)\n",
    "\n",
    "print(\"-\" * 50)\n",
    "print(\"ORIGINAL EFFICIENTNET-B0 STRUCTURE\") \n",
    "print(\"-\" * 50)\n",
    "\n",
    "# Display Detailed Summary\n",
    "summary(model=original_efficientnet,\n",
    "        input_size=(32,3,224,224), # batch_size, channels, heights, width\n",
    "        col_names = [\"input_size\", \"output_size\", \"num_params\", \"trainable\"],\n",
    "        col_width=47,\n",
    "        row_settings=[\"var_names\"])"
   ]
  },
  {
   "cell_type": "markdown",
   "id": "20865708",
   "metadata": {},
   "source": [
    "### Multi-Head Model Architecture"
   ]
  },
  {
   "cell_type": "code",
   "execution_count": null,
   "id": "c9ff1b12",
   "metadata": {},
   "outputs": [
    {
     "ename": "SyntaxError",
     "evalue": "expected ':' (4024436916.py, line 19)",
     "output_type": "error",
     "traceback": [
      "\u001b[1;36m  Cell \u001b[1;32mIn[10], line 19\u001b[1;36m\u001b[0m\n\u001b[1;33m    for param in self.backbone.features.para\u001b[0m\n\u001b[1;37m                                            ^\u001b[0m\n\u001b[1;31mSyntaxError\u001b[0m\u001b[1;31m:\u001b[0m expected ':'\n"
     ]
    }
   ],
   "source": [
    "class CarClassifierWithOOD(nn.Module):\n",
    "    \"\"\"Multi-head neural network for car classification and OOD detection\"\"\"\n",
    "\n",
    "    def __init__(self, num_car_classes=4, pretrained=True):\n",
    "        super(CarClassifierWithOOD, self).__init__()\n",
    "\n",
    "        # Load EfficientNet-B0 backbone\n",
    "        if pretrained:\n",
    "            weights = models.EfficientNet_B0_Weights.DEFAULT\n",
    "        else:\n",
    "            weights = None\n",
    "\n",
    "        self.backbone = models.efficientnet_b0(weights=weights)\n",
    "\n",
    "        # Remove the original classfier\n",
    "        self.backbone.classifier = nn.Identity()\n",
    "\n",
    "        # freeze base layers\n",
    "        for param in self.backbone.features.parameters():\n",
    "            param.requires_grad = True\n",
    "        \n",
    "        \n",
    "\n",
    "\n"
   ]
  },
  {
   "cell_type": "markdown",
   "id": "ab9dbd5d",
   "metadata": {},
   "source": []
  },
  {
   "cell_type": "code",
   "execution_count": null,
   "id": "5fa6a62f",
   "metadata": {},
   "outputs": [],
   "source": []
  },
  {
   "cell_type": "code",
   "execution_count": null,
   "id": "98093d85",
   "metadata": {},
   "outputs": [],
   "source": []
  },
  {
   "cell_type": "code",
   "execution_count": null,
   "id": "3e991082",
   "metadata": {},
   "outputs": [],
   "source": []
  },
  {
   "cell_type": "code",
   "execution_count": null,
   "id": "30273bb1",
   "metadata": {},
   "outputs": [],
   "source": []
  },
  {
   "cell_type": "code",
   "execution_count": null,
   "id": "178b922f",
   "metadata": {},
   "outputs": [],
   "source": []
  },
  {
   "cell_type": "code",
   "execution_count": null,
   "id": "14a7d579",
   "metadata": {},
   "outputs": [],
   "source": []
  },
  {
   "cell_type": "code",
   "execution_count": null,
   "id": "9f1ded7c",
   "metadata": {},
   "outputs": [],
   "source": []
  },
  {
   "cell_type": "code",
   "execution_count": null,
   "id": "7c7edd1a",
   "metadata": {},
   "outputs": [],
   "source": []
  },
  {
   "cell_type": "code",
   "execution_count": null,
   "id": "325e33a9",
   "metadata": {},
   "outputs": [],
   "source": []
  },
  {
   "cell_type": "code",
   "execution_count": null,
   "id": "41c49718",
   "metadata": {},
   "outputs": [],
   "source": []
  },
  {
   "cell_type": "code",
   "execution_count": null,
   "id": "4ddd2f6b",
   "metadata": {},
   "outputs": [],
   "source": []
  },
  {
   "cell_type": "code",
   "execution_count": null,
   "id": "a81d8240",
   "metadata": {},
   "outputs": [],
   "source": []
  },
  {
   "cell_type": "code",
   "execution_count": null,
   "id": "6149f540",
   "metadata": {},
   "outputs": [],
   "source": []
  },
  {
   "cell_type": "code",
   "execution_count": null,
   "id": "b64b6b02",
   "metadata": {},
   "outputs": [],
   "source": []
  },
  {
   "cell_type": "code",
   "execution_count": null,
   "id": "7579c85c",
   "metadata": {},
   "outputs": [],
   "source": []
  },
  {
   "cell_type": "code",
   "execution_count": null,
   "id": "2b03f1a0",
   "metadata": {},
   "outputs": [],
   "source": []
  },
  {
   "cell_type": "code",
   "execution_count": null,
   "id": "ce37cac8",
   "metadata": {},
   "outputs": [],
   "source": []
  },
  {
   "cell_type": "code",
   "execution_count": null,
   "id": "0a80ec73",
   "metadata": {},
   "outputs": [],
   "source": []
  },
  {
   "cell_type": "code",
   "execution_count": null,
   "id": "4507a38a",
   "metadata": {},
   "outputs": [],
   "source": []
  },
  {
   "cell_type": "code",
   "execution_count": null,
   "id": "5a0ea37a",
   "metadata": {},
   "outputs": [],
   "source": []
  },
  {
   "cell_type": "code",
   "execution_count": null,
   "id": "a85fd331",
   "metadata": {},
   "outputs": [],
   "source": []
  },
  {
   "cell_type": "code",
   "execution_count": null,
   "id": "693a054e",
   "metadata": {},
   "outputs": [],
   "source": []
  }
 ],
 "metadata": {
  "kernelspec": {
   "display_name": ".venv",
   "language": "python",
   "name": "python3"
  },
  "language_info": {
   "codemirror_mode": {
    "name": "ipython",
    "version": 3
   },
   "file_extension": ".py",
   "mimetype": "text/x-python",
   "name": "python",
   "nbconvert_exporter": "python",
   "pygments_lexer": "ipython3",
   "version": "3.10.0"
  }
 },
 "nbformat": 4,
 "nbformat_minor": 5
}
